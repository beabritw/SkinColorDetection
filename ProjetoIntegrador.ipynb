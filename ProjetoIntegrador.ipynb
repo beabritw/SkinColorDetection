{
  "nbformat": 4,
  "nbformat_minor": 0,
  "metadata": {
    "colab": {
      "provenance": [],
      "authorship_tag": "ABX9TyPIG11Wj1YOQ6BXSxvSCUKH",
      "include_colab_link": true
    },
    "kernelspec": {
      "name": "python3",
      "display_name": "Python 3"
    },
    "language_info": {
      "name": "python"
    }
  },
  "cells": [
    {
      "cell_type": "markdown",
      "metadata": {
        "id": "view-in-github",
        "colab_type": "text"
      },
      "source": [
        "<a href=\"https://colab.research.google.com/github/beabritw/SkinColorDetection/blob/main/ProjetoIntegrador.ipynb\" target=\"_parent\"><img src=\"https://colab.research.google.com/assets/colab-badge.svg\" alt=\"Open In Colab\"/></a>"
      ]
    },
    {
      "cell_type": "code",
      "execution_count": null,
      "metadata": {
        "id": "MsX-tPpA_DAA"
      },
      "outputs": [],
      "source": [
        "import cv2\n",
        "import numpy as np\n",
        "from google.colab import files\n",
        "from IPython.display import Image\n",
        "\n",
        "class SkinColorDetector:\n",
        "    def __init__(self):\n",
        "        self.tabela_cores = {\n",
        "            \"extremamente_clara\": [\"#FFF5EB\", \"#FFEDDA\", \"#FFE7CB\", \"#FFDFBB\", \"#FFD7AB\"],\n",
        "            \"clara\": [\"#FFCDA0\", \"#FFC18F\", \"#FFB57F\", \"#EACBA8\"],\n",
        "            \"morena_clara\": [\"#DEB887\", \"#D2B48C\", \"#BC8F8F\"],\n",
        "            \"media\": [\"#AC8B64\", \"#CF9E7C\", \"#b37e66\"],\n",
        "            \"morena_escura\": [\"#A0522D\", \"#94613C\", \"#AE703A\"],\n",
        "            \"escura\": [\"#8B4513\", \"#B26A49\", \"#a05f41\"],\n",
        "            \"muito_escura\": [\"#994D44\", \"#623A18\", \"#503431\", \"#7a3d36\"],\n",
        "            \"negra\": [\"#000000\", \"#3F281B\", \"#3d1e1b\"],\n",
        "        }\n",
        "        self.links_produtos_pele = {\n",
        "            \"extremamente_clara\": [\"https://www.boticario.com.br/base-liquida-cor-100-make-b-mate-salicylic-30g/\",\n",
        "                                   \"https://www.belezanaweb.com.br/maybelline-superstay-active-wear-30h-110-porcelain-base-liquida-30ml/\",\n",
        "                                   \"https://www.boticario.com.br/base-liquida-cor-120-make-b-mate-salicylic-30g/\"],\n",
        "\n",
        "            \"clara\": [\"https://contem1g.com.br/products/base-velvet-segunda-pele?variant=44151440965851\",\n",
        "                      \"https://www.eudora.com.br/base-liquida-glam-skin-control-cor-45-30ml/?gad_source=1&gclid=CjwKCAjwgpCzBhBhEiwAOSQWQdfgulfK8YvSJCTZnOeanuMhOy1n837ARV15ld2x_wYAotTfx6Qe_RoCEoIQAvD_BwE&gclsrc=aw.ds\",\n",
        "                      \"https://www.boticario.com.br/base-liquida-cor-170-make-b-mate-salicylic-30g/\"],\n",
        "\n",
        "            \"morena_clara\": [\"https://contem1g.com.br/products/base-velvet-segunda-pele?variant=44151441064155\",\n",
        "                             \"https://www.boticario.com.br/base-liquida-cor-210-make-b-mate-salicylic-30g/\",\n",
        "                             \"https://www.belezanaweb.com.br/vult-nano-hd-cor-v230-base-liquida-26ml/\"],\n",
        "\n",
        "            \"media\": [\"https://contem1g.com.br/products/base-velvet-segunda-pele?variant=44151441195227\",\n",
        "                      \"https://www.belezanaweb.com.br/vult-nano-hd-cor-v260-base-liquida-26ml/\",\n",
        "                      \"https://www.boticario.com.br/base-liquida-cor-260-make-b-mate-salicylic-30g/\"],\n",
        "\n",
        "            \"morena_escura\": [\"https://contem1g.com.br/products/base-velvet-segunda-pele?variant=44151441359067\",\n",
        "                              \"https://www.boticario.com.br/base-liquida-make-b-glycolic-tx-cor-270-30g/\",\n",
        "                              \"https://www.belezanaweb.com.br/divspan-stylecolor-inherit-fontfamily-inherit-fontsize-15remvult-nano-hd-cor-v280-base-liquida-26mlspandiv/\"],\n",
        "\n",
        "            \"escura\": [\"https://contem1g.com.br/products/base-velvet-segunda-pele?variant=44151441457371\",\n",
        "                       \"https://www.boticario.com.br/base-liquida-cor-310-make-b-mate-salicylic-30g/\"],\n",
        "\n",
        "            \"muito_escura\": [\"https://www.belezanaweb.com.br/vult-nano-hd-cor-v350-base-liquida-26ml/\",\n",
        "                             \"https://contem1g.com.br/products/base-velvet-segunda-pele?variant=44151441588443\",\n",
        "                             \"https://contem1g.com.br/products/base-velvet-segunda-pele?variant=44151441621211\"],\n",
        "\n",
        "            \"negra\": [\"https://www.boticario.com.br/base-liquida-cor-330-make-b-mate-salicylic-30g/\",\n",
        "                      \"https://contem1g.com.br/products/base-velvet-segunda-pele?variant=44151441653979\",\n",
        "                      \"https://contem1g.com.br/products/base-velvet-segunda-pele?variant=44151441785051\"]\n",
        "        }\n",
        "\n",
        "\n",
        "    #Calcula a diferença entre duas cores hexadecimais.\n",
        "    def diferenca_cor(self, cor1, cor2):\n",
        "        r1, g1, b1 = int(cor1[1:3], 16), int(cor1[3:5], 16), int(cor1[5:], 16)\n",
        "        r2, g2, b2 = int(cor2[1:3], 16), int(cor2[3:5], 16), int(cor2[5:], 16)\n",
        "        return ((r1 - r2) ** 2 + (g1 - g2) ** 2 + (b1 - b2) ** 2) ** 0.5\n",
        "\n",
        "    #Encontra a categoria de cor de pele mais próxima de um valor hexadecimal.\n",
        "    def tabela(self, cor_Hex):\n",
        "        cor_mais_proxima = None\n",
        "        menor_diferenca = float('inf')\n",
        "        tipo_cor = None\n",
        "\n",
        "        for categoria, cores in self.tabela_cores.items():\n",
        "            for cor in cores:\n",
        "                diferenca = self.diferenca_cor(cor_Hex, cor)\n",
        "                if diferenca < menor_diferenca:\n",
        "                    cor_mais_proxima = cor\n",
        "                    menor_diferenca = diferenca\n",
        "                    tipo_cor = categoria\n",
        "\n",
        "        return tipo_cor if tipo_cor else cor_mais_proxima\n",
        "\n",
        "    #Detecta a cor da pele em uma imagem e retorna a cor média e o link do produto.\n",
        "    def detectar_cor_pele(self, imagem_path):\n",
        "        image = self.carregar_imagem(imagem_path)\n",
        "        faces = self.detectar_faces(image)\n",
        "        mean_skin_colors = self.calcular_cores_medias(image, faces)\n",
        "        self.desenhar_retangulos(image, faces)\n",
        "        self.salvar_imagem(image, 'output_segmented.jpg')\n",
        "        mean_skin_colors_image = self.criar_imagem_cores_medias(mean_skin_colors)\n",
        "        self.salvar_imagem(mean_skin_colors_image, 'mean_skin_colors.jpg')\n",
        "\n",
        "        mean_color = mean_skin_colors[0]\n",
        "        mean_color_hex = self.rgb_para_hex(mean_color)\n",
        "        tipo_cor_pele = self.tabela(mean_color_hex)\n",
        "        link_produto_pele = self.links_produtos_pele.get(tipo_cor_pele)\n",
        "\n",
        "        return mean_color_hex, tipo_cor_pele, link_produto_pele\n",
        "\n",
        "    #Carrega uma imagem do caminho especificado.\n",
        "    def carregar_imagem(self, imagem_path):\n",
        "        return cv2.imread(imagem_path)\n",
        "\n",
        "    #Detecta rostos em uma imagem.\n",
        "    def detectar_faces(self, image):\n",
        "        gray_image = cv2.cvtColor(image, cv2.COLOR_BGR2GRAY)\n",
        "        face_cascade = cv2.CascadeClassifier(cv2.data.haarcascades + 'haarcascade_frontalface_default.xml')\n",
        "        faces = face_cascade.detectMultiScale(gray_image, scaleFactor=1.1, minNeighbors=5, minSize=(30, 30))\n",
        "        return faces\n",
        "\n",
        "    #Calcula a cor média da pele para cada rosto detectado.\n",
        "    def calcular_cores_medias(self, image, faces):\n",
        "        mean_skin_colors = []\n",
        "        for (x, y, w, h) in faces:\n",
        "            face_roi = image[y:y+h, x:x+w]\n",
        "            mean_color = cv2.mean(face_roi)[:3]\n",
        "            mean_skin_colors.append(mean_color)\n",
        "        return mean_skin_colors\n",
        "\n",
        "    #Desenha retângulos ao redor dos rostos detectados.\n",
        "    def desenhar_retangulos(self, image, faces):\n",
        "        for (x, y, w, h) in faces:\n",
        "            cv2.rectangle(image, (x, y), (x+w, y+h), (0, 0, 0), 2)\n",
        "\n",
        "    #Salva uma imagem no caminho especificado.\n",
        "    def salvar_imagem(self, image, path):\n",
        "        cv2.imwrite(path, image)\n",
        "\n",
        "    #Cria uma imagem com as cores médias da pele.\n",
        "    def criar_imagem_cores_medias(self, mean_skin_colors):\n",
        "        height = len(mean_skin_colors) * 50\n",
        "        mean_skin_colors_image = np.zeros((height, 200, 3), dtype=np.uint8)\n",
        "        for i, color in enumerate(mean_skin_colors):\n",
        "            mean_skin_colors_image[i*50:i*50+50, :] = color\n",
        "        return mean_skin_colors_image\n",
        "\n",
        "    #Converte uma cor RGB para hexadecimal.\n",
        "    def rgb_para_hex(self, rgb):\n",
        "        return '#{:02x}{:02x}{:02x}'.format(int(rgb[2]), int(rgb[1]), int(rgb[0]))\n",
        "\n",
        "    #Faz upload da imagem para o Colab.\n",
        "    def upload_image(self):\n",
        "        uploaded = files.upload()\n",
        "        for filename in uploaded.keys():\n",
        "            return filename\n",
        "\n",
        "    #Exibe uma imagem no notebook.\n",
        "    def exibir_imagem(self, imagem_path):\n",
        "        return Image(imagem_path)\n",
        "\n",
        "# Uso da classe\n",
        "detector = SkinColorDetector()\n"
      ]
    },
    {
      "cell_type": "code",
      "source": [
        "# Faz upload da imagem para o Colab\n",
        "imagem_path = detector.upload_image()\n",
        "\n",
        "# Detecta a cor da pele e obtém o link do produto\n",
        "mean_color_hex, tipo_cor_pele, link_produto_pele = detector.detectar_cor_pele(imagem_path)"
      ],
      "metadata": {
        "colab": {
          "base_uri": "https://localhost:8080/",
          "height": 73
        },
        "id": "gMD1zP5d_HOg",
        "outputId": "c876966c-7aa5-4e34-b6ca-1354f8f19b24"
      },
      "execution_count": null,
      "outputs": [
        {
          "output_type": "display_data",
          "data": {
            "text/plain": [
              "<IPython.core.display.HTML object>"
            ],
            "text/html": [
              "\n",
              "     <input type=\"file\" id=\"files-355935cd-5aab-41e1-a0cc-4bce93bfb6bb\" name=\"files[]\" multiple disabled\n",
              "        style=\"border:none\" />\n",
              "     <output id=\"result-355935cd-5aab-41e1-a0cc-4bce93bfb6bb\">\n",
              "      Upload widget is only available when the cell has been executed in the\n",
              "      current browser session. Please rerun this cell to enable.\n",
              "      </output>\n",
              "      <script>// Copyright 2017 Google LLC\n",
              "//\n",
              "// Licensed under the Apache License, Version 2.0 (the \"License\");\n",
              "// you may not use this file except in compliance with the License.\n",
              "// You may obtain a copy of the License at\n",
              "//\n",
              "//      http://www.apache.org/licenses/LICENSE-2.0\n",
              "//\n",
              "// Unless required by applicable law or agreed to in writing, software\n",
              "// distributed under the License is distributed on an \"AS IS\" BASIS,\n",
              "// WITHOUT WARRANTIES OR CONDITIONS OF ANY KIND, either express or implied.\n",
              "// See the License for the specific language governing permissions and\n",
              "// limitations under the License.\n",
              "\n",
              "/**\n",
              " * @fileoverview Helpers for google.colab Python module.\n",
              " */\n",
              "(function(scope) {\n",
              "function span(text, styleAttributes = {}) {\n",
              "  const element = document.createElement('span');\n",
              "  element.textContent = text;\n",
              "  for (const key of Object.keys(styleAttributes)) {\n",
              "    element.style[key] = styleAttributes[key];\n",
              "  }\n",
              "  return element;\n",
              "}\n",
              "\n",
              "// Max number of bytes which will be uploaded at a time.\n",
              "const MAX_PAYLOAD_SIZE = 100 * 1024;\n",
              "\n",
              "function _uploadFiles(inputId, outputId) {\n",
              "  const steps = uploadFilesStep(inputId, outputId);\n",
              "  const outputElement = document.getElementById(outputId);\n",
              "  // Cache steps on the outputElement to make it available for the next call\n",
              "  // to uploadFilesContinue from Python.\n",
              "  outputElement.steps = steps;\n",
              "\n",
              "  return _uploadFilesContinue(outputId);\n",
              "}\n",
              "\n",
              "// This is roughly an async generator (not supported in the browser yet),\n",
              "// where there are multiple asynchronous steps and the Python side is going\n",
              "// to poll for completion of each step.\n",
              "// This uses a Promise to block the python side on completion of each step,\n",
              "// then passes the result of the previous step as the input to the next step.\n",
              "function _uploadFilesContinue(outputId) {\n",
              "  const outputElement = document.getElementById(outputId);\n",
              "  const steps = outputElement.steps;\n",
              "\n",
              "  const next = steps.next(outputElement.lastPromiseValue);\n",
              "  return Promise.resolve(next.value.promise).then((value) => {\n",
              "    // Cache the last promise value to make it available to the next\n",
              "    // step of the generator.\n",
              "    outputElement.lastPromiseValue = value;\n",
              "    return next.value.response;\n",
              "  });\n",
              "}\n",
              "\n",
              "/**\n",
              " * Generator function which is called between each async step of the upload\n",
              " * process.\n",
              " * @param {string} inputId Element ID of the input file picker element.\n",
              " * @param {string} outputId Element ID of the output display.\n",
              " * @return {!Iterable<!Object>} Iterable of next steps.\n",
              " */\n",
              "function* uploadFilesStep(inputId, outputId) {\n",
              "  const inputElement = document.getElementById(inputId);\n",
              "  inputElement.disabled = false;\n",
              "\n",
              "  const outputElement = document.getElementById(outputId);\n",
              "  outputElement.innerHTML = '';\n",
              "\n",
              "  const pickedPromise = new Promise((resolve) => {\n",
              "    inputElement.addEventListener('change', (e) => {\n",
              "      resolve(e.target.files);\n",
              "    });\n",
              "  });\n",
              "\n",
              "  const cancel = document.createElement('button');\n",
              "  inputElement.parentElement.appendChild(cancel);\n",
              "  cancel.textContent = 'Cancel upload';\n",
              "  const cancelPromise = new Promise((resolve) => {\n",
              "    cancel.onclick = () => {\n",
              "      resolve(null);\n",
              "    };\n",
              "  });\n",
              "\n",
              "  // Wait for the user to pick the files.\n",
              "  const files = yield {\n",
              "    promise: Promise.race([pickedPromise, cancelPromise]),\n",
              "    response: {\n",
              "      action: 'starting',\n",
              "    }\n",
              "  };\n",
              "\n",
              "  cancel.remove();\n",
              "\n",
              "  // Disable the input element since further picks are not allowed.\n",
              "  inputElement.disabled = true;\n",
              "\n",
              "  if (!files) {\n",
              "    return {\n",
              "      response: {\n",
              "        action: 'complete',\n",
              "      }\n",
              "    };\n",
              "  }\n",
              "\n",
              "  for (const file of files) {\n",
              "    const li = document.createElement('li');\n",
              "    li.append(span(file.name, {fontWeight: 'bold'}));\n",
              "    li.append(span(\n",
              "        `(${file.type || 'n/a'}) - ${file.size} bytes, ` +\n",
              "        `last modified: ${\n",
              "            file.lastModifiedDate ? file.lastModifiedDate.toLocaleDateString() :\n",
              "                                    'n/a'} - `));\n",
              "    const percent = span('0% done');\n",
              "    li.appendChild(percent);\n",
              "\n",
              "    outputElement.appendChild(li);\n",
              "\n",
              "    const fileDataPromise = new Promise((resolve) => {\n",
              "      const reader = new FileReader();\n",
              "      reader.onload = (e) => {\n",
              "        resolve(e.target.result);\n",
              "      };\n",
              "      reader.readAsArrayBuffer(file);\n",
              "    });\n",
              "    // Wait for the data to be ready.\n",
              "    let fileData = yield {\n",
              "      promise: fileDataPromise,\n",
              "      response: {\n",
              "        action: 'continue',\n",
              "      }\n",
              "    };\n",
              "\n",
              "    // Use a chunked sending to avoid message size limits. See b/62115660.\n",
              "    let position = 0;\n",
              "    do {\n",
              "      const length = Math.min(fileData.byteLength - position, MAX_PAYLOAD_SIZE);\n",
              "      const chunk = new Uint8Array(fileData, position, length);\n",
              "      position += length;\n",
              "\n",
              "      const base64 = btoa(String.fromCharCode.apply(null, chunk));\n",
              "      yield {\n",
              "        response: {\n",
              "          action: 'append',\n",
              "          file: file.name,\n",
              "          data: base64,\n",
              "        },\n",
              "      };\n",
              "\n",
              "      let percentDone = fileData.byteLength === 0 ?\n",
              "          100 :\n",
              "          Math.round((position / fileData.byteLength) * 100);\n",
              "      percent.textContent = `${percentDone}% done`;\n",
              "\n",
              "    } while (position < fileData.byteLength);\n",
              "  }\n",
              "\n",
              "  // All done.\n",
              "  yield {\n",
              "    response: {\n",
              "      action: 'complete',\n",
              "    }\n",
              "  };\n",
              "}\n",
              "\n",
              "scope.google = scope.google || {};\n",
              "scope.google.colab = scope.google.colab || {};\n",
              "scope.google.colab._files = {\n",
              "  _uploadFiles,\n",
              "  _uploadFilesContinue,\n",
              "};\n",
              "})(self);\n",
              "</script> "
            ]
          },
          "metadata": {}
        },
        {
          "output_type": "stream",
          "name": "stdout",
          "text": [
            "Saving images (1).jpeg to images (1).jpeg\n"
          ]
        }
      ]
    },
    {
      "cell_type": "code",
      "source": [
        "# Imprime a média das cores da pele em formato hexadecimal\n",
        "print(\"Média das cores da pele (Hexadecimal):\", mean_color_hex)"
      ],
      "metadata": {
        "colab": {
          "base_uri": "https://localhost:8080/"
        },
        "id": "jjgQj9Xv_VDg",
        "outputId": "6832702e-0b24-4073-dea7-6c34c9769f63"
      },
      "execution_count": null,
      "outputs": [
        {
          "output_type": "stream",
          "name": "stdout",
          "text": [
            "Média das cores da pele (Hexadecimal): #554036\n"
          ]
        }
      ]
    },
    {
      "cell_type": "code",
      "source": [
        "# Exibe a imagem com os rostos detectados\n",
        "detector.exibir_imagem('output_segmented.jpg')"
      ],
      "metadata": {
        "colab": {
          "base_uri": "https://localhost:8080/",
          "height": 242
        },
        "id": "icTXWAIR_OXx",
        "outputId": "7348ecb6-f28f-409e-ea4d-5fde9f66dd6f"
      },
      "execution_count": null,
      "outputs": [
        {
          "output_type": "execute_result",
          "data": {
            "image/jpeg": "[encoded data removed]",
            "text/plain": [
              "<IPython.core.display.Image object>"
            ]
          },
          "metadata": {},
          "execution_count": 7
        }
      ]
    },
    {
      "cell_type": "code",
      "source": [
        "# Exibe a imagem com as cores médias da pele\n",
        "detector.exibir_imagem('mean_skin_colors.jpg')"
      ],
      "metadata": {
        "colab": {
          "base_uri": "https://localhost:8080/",
          "height": 67
        },
        "id": "rbLXlpVi_HGI",
        "outputId": "10fd1dd2-8ecb-4a36-be22-434ebeb49ace"
      },
      "execution_count": null,
      "outputs": [
        {
          "output_type": "execute_result",
          "data": {
            "image/jpeg": "[encoded data removed]",
            "text/plain": [
              "<IPython.core.display.Image object>"
            ]
          },
          "metadata": {},
          "execution_count": 8
        }
      ]
    },
    {
      "cell_type": "code",
      "source": [
        "tipo_cor_pele"
      ],
      "metadata": {
        "id": "49GGzae3ELBG",
        "outputId": "db5206e8-cb65-4b0d-8550-13c86ce27166",
        "colab": {
          "base_uri": "https://localhost:8080/",
          "height": 35
        }
      },
      "execution_count": null,
      "outputs": [
        {
          "output_type": "execute_result",
          "data": {
            "text/plain": [
              "'muito_escura'"
            ],
            "application/vnd.google.colaboratory.intrinsic+json": {
              "type": "string"
            }
          },
          "metadata": {},
          "execution_count": 9
        }
      ]
    },
    {
      "cell_type": "code",
      "source": [
        "# Imprime o link do produto correspondente ao tipo de pele, se disponível\n",
        "if link_produto_pele:\n",
        "    print(\"Link do produto para este tipo de pele:\", link_produto_pele)\n",
        "else:\n",
        "    print(\"Não há link de produto para este tipo de pele.\")"
      ],
      "metadata": {
        "colab": {
          "base_uri": "https://localhost:8080/"
        },
        "id": "-JYDh3jz_G3Z",
        "outputId": "0341d13a-e2e9-4d17-af04-91f42fcd25bf"
      },
      "execution_count": null,
      "outputs": [
        {
          "output_type": "stream",
          "name": "stdout",
          "text": [
            "Link do produto para este tipo de pele: ['https://www.belezanaweb.com.br/vult-nano-hd-cor-v350-base-liquida-26ml/', 'https://contem1g.com.br/products/base-velvet-segunda-pele?variant=44151441588443', 'https://contem1g.com.br/products/base-velvet-segunda-pele?variant=44151441621211']\n"
          ]
        }
      ]
    }
  ]
}